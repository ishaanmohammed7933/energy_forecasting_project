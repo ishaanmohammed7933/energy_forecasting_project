{
  "nbformat": 4,
  "nbformat_minor": 0,
  "metadata": {
    "colab": {
      "provenance": []
    },
    "kernelspec": {
      "name": "python3",
      "display_name": "Python 3"
    },
    "language_info": {
      "name": "python"
    }
  },
  "cells": [
    {
      "cell_type": "code",
      "execution_count": null,
      "metadata": {
        "id": "cfsFwX8wEZSI"
      },
      "outputs": [],
      "source": [
        "# Feature Engineering\n",
        "\n",
        "import pandas as pd\n",
        "\n",
        "# Load cleaned dataset\n",
        "data = pd.read_csv('../data/energy_consumption_cleaned.csv', index_col='timestamp', parse_dates=True)\n",
        "\n",
        "# Creating time-based features\n",
        "data['hour'] = data.index.hour\n",
        "data['day_of_week'] = data.index.dayofweek\n",
        "data['month'] = data.index.month\n",
        "\n",
        "# Lag features\n",
        "data['lag_1'] = data['energy_consumption'].shift(1)\n",
        "\n",
        "# Rolling mean features\n",
        "data['rolling_mean_24h'] = data['energy_consumption'].rolling(window=24).mean()\n",
        "\n",
        "# Drop NA values generated from lagging\n",
        "data.dropna(inplace=True)\n",
        "\n",
        "# Save feature engineered dataset\n",
        "data.to_csv('../data/energy_consumption_features.csv')"
      ]
    }
  ]
}