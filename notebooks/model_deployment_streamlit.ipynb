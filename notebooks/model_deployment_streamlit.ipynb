{
  "nbformat": 4,
  "nbformat_minor": 0,
  "metadata": {
    "colab": {
      "provenance": []
    },
    "kernelspec": {
      "name": "python3",
      "display_name": "Python 3"
    },
    "language_info": {
      "name": "python"
    }
  },
  "cells": [
    {
      "cell_type": "code",
      "execution_count": null,
      "metadata": {
        "id": "6M84yPpvEio2"
      },
      "outputs": [],
      "source": [
        "# Streamlit App Deployment (Prototype)\n",
        "\n",
        "import streamlit as st\n",
        "import pandas as pd\n",
        "import joblib\n",
        "\n",
        "# Load model\n",
        "model = joblib.load('../models/final_model.pkl')\n",
        "\n",
        "# Title\n",
        "st.title('Smart Grid Energy Consumption Forecasting')\n",
        "\n",
        "# Input form\n",
        "st.header('Enter Inputs')\n",
        "hour = st.slider('Hour of Day (0-23)', 0, 23, 12)\n",
        "day_of_week = st.slider('Day of Week (0=Monday, 6=Sunday)', 0, 6, 3)\n",
        "month = st.slider('Month', 1, 12, 6)\n",
        "lag_1 = st.number_input('Lag 1 Value (Previous Hour Consumption)', value=500.0)\n",
        "rolling_mean_24h = st.number_input('24H Rolling Mean Consumption', value=480.0)\n",
        "\n",
        "if st.button('Predict Consumption'):\n",
        "    input_df = pd.DataFrame({\n",
        "        'hour': [hour],\n",
        "        'day_of_week': [day_of_week],\n",
        "        'month': [month],\n",
        "        'lag_1': [lag_1],\n",
        "        'rolling_mean_24h': [rolling_mean_24h]\n",
        "    })\n",
        "    prediction = model.predict(input_df)[0]\n",
        "    st.success(f'Predicted Energy Consumption: {prediction:.2f} kWh')"
      ]
    }
  ]
}