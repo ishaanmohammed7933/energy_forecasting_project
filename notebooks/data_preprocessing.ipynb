{
  "nbformat": 4,
  "nbformat_minor": 0,
  "metadata": {
    "colab": {
      "provenance": []
    },
    "kernelspec": {
      "name": "python3",
      "display_name": "Python 3"
    },
    "language_info": {
      "name": "python"
    }
  },
  "cells": [
    {
      "cell_type": "code",
      "execution_count": null,
      "metadata": {
        "id": "oiH-TTuFEQfP"
      },
      "outputs": [],
      "source": [
        "# Data Preprocessing\n",
        "\n",
        "import pandas as pd\n",
        "import matplotlib.pyplot as plt\n",
        "import seaborn as sns\n",
        "\n",
        "# Load the dataset\n",
        "data = pd.read_csv('../data/energy_consumption.csv')\n",
        "\n",
        "# Initial exploration\n",
        "print(data.head())\n",
        "print(data.info())\n",
        "\n",
        "# Handling missing values\n",
        "data = data.fillna(method='ffill')\n",
        "\n",
        "# Date processing\n",
        "if 'timestamp' in data.columns:\n",
        "    data['timestamp'] = pd.to_datetime(data['timestamp'])\n",
        "    data.set_index('timestamp', inplace=True)\n",
        "\n",
        "# Plot basic trend\n",
        "plt.figure(figsize=(15,5))\n",
        "data['energy_consumption'].plot()\n",
        "plt.title('Energy Consumption Over Time')\n",
        "plt.xlabel('Time')\n",
        "plt.ylabel('Energy Consumption')\n",
        "plt.savefig('../outputs/plots/consumption_trend.png')\n",
        "plt.show()\n",
        "\n",
        "# Save cleaned data\n",
        "data.to_csv('../data/energy_consumption_cleaned.csv')"
      ]
    }
  ]
}