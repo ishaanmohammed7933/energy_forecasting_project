{
  "nbformat": 4,
  "nbformat_minor": 0,
  "metadata": {
    "colab": {
      "provenance": []
    },
    "kernelspec": {
      "name": "python3",
      "display_name": "Python 3"
    },
    "language_info": {
      "name": "python"
    }
  },
  "cells": [
    {
      "cell_type": "code",
      "execution_count": null,
      "metadata": {
        "id": "VpXflSusEeo9"
      },
      "outputs": [],
      "source": [
        "# Model Training\n",
        "\n",
        "import pandas as pd\n",
        "from sklearn.model_selection import train_test_split\n",
        "from sklearn.ensemble import RandomForestRegressor\n",
        "from sklearn.metrics import mean_absolute_error, mean_squared_error, r2_score\n",
        "import joblib\n",
        "import json\n",
        "import matplotlib.pyplot as plt\n",
        "\n",
        "# Load dataset\n",
        "data = pd.read_csv('../data/energy_consumption_features.csv', index_col='timestamp', parse_dates=True)\n",
        "\n",
        "# Features and labels\n",
        "X = data.drop('energy_consumption', axis=1)\n",
        "y = data['energy_consumption']\n",
        "\n",
        "# Train-test split\n",
        "X_train, X_test, y_train, y_test = train_test_split(X, y, test_size=0.2, shuffle=False)\n",
        "\n",
        "# Model\n",
        "model = RandomForestRegressor()\n",
        "model.fit(X_train, y_train)\n",
        "\n",
        "# Predict\n",
        "y_pred = model.predict(X_test)\n",
        "\n",
        "# Evaluate\n",
        "mae = mean_absolute_error(y_test, y_pred)\n",
        "mse = mean_squared_error(y_test, y_pred)\n",
        "rmse = mean_squared_error(y_test, y_pred, squared=False)\n",
        "r2 = r2_score(y_test, y_pred)\n",
        "\n",
        "# Save metrics\n",
        "metrics = {'MAE': mae, 'MSE': mse, 'RMSE': rmse, 'R2': r2}\n",
        "with open('../outputs/metrics/model_performance.json', 'w') as f:\n",
        "    json.dump(metrics, f)\n",
        "\n",
        "# Save model\n",
        "joblib.dump(model, '../models/final_model.pkl')\n",
        "\n",
        "# Plot predicted vs actual\n",
        "plt.figure(figsize=(15,5))\n",
        "plt.plot(y_test.index, y_test, label='Actual')\n",
        "plt.plot(y_test.index, y_pred, label='Predicted')\n",
        "plt.legend()\n",
        "plt.title('Actual vs Predicted Energy Consumption')\n",
        "plt.savefig('../outputs/plots/prediction_vs_actual.png')\n",
        "plt.show()"
      ]
    }
  ]
}